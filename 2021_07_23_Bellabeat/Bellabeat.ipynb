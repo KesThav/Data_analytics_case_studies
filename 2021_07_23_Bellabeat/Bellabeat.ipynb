{
 "cells": [
  {
   "cell_type": "markdown",
   "id": "professional-musician",
   "metadata": {},
   "source": [
    "# Bellabeat"
   ]
  },
  {
   "cell_type": "markdown",
   "id": "improving-english",
   "metadata": {},
   "source": [
    "This case study is focused on Bellabeat company. They procuse smart devices which track health data about their users. The data can help users to better understand their current habits and make healthy decisions.\n",
    "\n",
    "We want to find insights in the habits of fitness track's users and apply it to the marketing strategy.\n",
    "\n",
    "The question we want to answer is : **How are consummers using their smart devices ?**\n",
    "\n",
    "To guide us in the analysis, we will follow this three questions :\n",
    "\n",
    "- What are some trends in smart device usage ?\n",
    "- How could these trends apply to Bellabeat customers ?\n",
    "- How could these trends help influence Bellabeat marketing strategy ?\n",
    "\n",
    "The dataset comes from https://www.kaggle.com/arashnic/fitbit **12.4.16-12.5.16** (European date format)"
   ]
  },
  {
   "cell_type": "markdown",
   "id": "skilled-private",
   "metadata": {},
   "source": [
    "## Import all datasets"
   ]
  },
  {
   "cell_type": "code",
   "execution_count": 1,
   "id": "registered-sperm",
   "metadata": {},
   "outputs": [
    {
     "name": "stderr",
     "output_type": "stream",
     "text": [
      "\n",
      "Attaching package: 'dplyr'\n",
      "\n",
      "The following objects are masked from 'package:stats':\n",
      "\n",
      "    filter, lag\n",
      "\n",
      "The following objects are masked from 'package:base':\n",
      "\n",
      "    intersect, setdiff, setequal, union\n",
      "\n",
      "Registered S3 methods overwritten by 'ggplot2':\n",
      "  method         from \n",
      "  [.quosures     rlang\n",
      "  c.quosures     rlang\n",
      "  print.quosures rlang\n",
      "Registered S3 method overwritten by 'rvest':\n",
      "  method            from\n",
      "  read_xml.response xml2\n",
      "-- Attaching packages --------------------------------------- tidyverse 1.2.1 --\n",
      "v tibble  2.1.1     v purrr   0.3.2\n",
      "v readr   1.3.1     v forcats 0.4.0\n",
      "-- Conflicts ------------------------------------------ tidyverse_conflicts() --\n",
      "x dplyr::filter() masks stats::filter()\n",
      "x dplyr::lag()    masks stats::lag()\n",
      "\n",
      "Attaching package: 'reshape2'\n",
      "\n",
      "The following object is masked from 'package:tidyr':\n",
      "\n",
      "    smiths\n",
      "\n"
     ]
    },
    {
     "name": "stdout",
     "output_type": "stream",
     "text": [
      "package 'chron' successfully unpacked and MD5 sums checked\n",
      "\n",
      "The downloaded binary packages are in\n",
      "\tC:\\Users\\kesig\\AppData\\Local\\Temp\\RtmpwVjAO6\\downloaded_packages\n"
     ]
    },
    {
     "name": "stderr",
     "output_type": "stream",
     "text": [
      "Warning message:\n",
      "\"package 'chron' was built under R version 3.6.3\""
     ]
    }
   ],
   "source": [
    "library(dplyr)\n",
    "library(stringr)\n",
    "library(tidyr)\n",
    "library(ggplot2)\n",
    "library(tidyverse)\n",
    "library(reshape2)\n",
    "install.packages(\"chron\")\n",
    "library(chron)"
   ]
  },
  {
   "cell_type": "code",
   "execution_count": 2,
   "id": "square-warren",
   "metadata": {},
   "outputs": [],
   "source": [
    "path = \"Q:/Google Data Analytics/case study 2/\"\n",
    "\n",
    "daily.activity <- read.csv(paste(path, 'dailyActivity_merged.csv', sep=\"\"), header=TRUE,stringsAsFactors = FALSE)\n",
    "daily.calories <- read.csv(paste(path, 'dailyCalories_merged.csv', sep=\"\"), header=TRUE,stringsAsFactors = FALSE)\n",
    "daily.intensities <- read.csv(paste(path, 'dailyIntensities_merged.csv', sep=\"\"), header=TRUE,stringsAsFactors = FALSE)\n",
    "daily.steps <- read.csv(paste(path, 'dailySteps_merged.csv', sep=\"\"), header=TRUE,stringsAsFactors = FALSE)\n",
    "sleep.day <- read.csv(paste(path, 'sleepDay_merged.csv', sep=\"\"), header=TRUE,stringsAsFactors = FALSE)\n",
    "\n",
    "heartrate.seconds <- read.csv(paste(path, 'heartrate_seconds_merged.csv', sep=\"\"), header=TRUE,stringsAsFactors = FALSE)\n",
    "\n",
    "\n",
    "hourly.calories <- read.csv(paste(path, 'hourlyCalories_merged.csv', sep=\"\"), header=TRUE,stringsAsFactors = FALSE)\n",
    "hourly.intensities <- read.csv(paste(path, 'hourlyIntensities_merged.csv', sep=\"\"), header=TRUE,stringsAsFactors = FALSE)\n",
    "hourly.steps <- read.csv(paste(path, 'hourlySteps_merged.csv', sep=\"\"), header=TRUE,stringsAsFactors = FALSE)\n",
    "\n",
    "minute.calories.narrow <- read.csv(paste(path, 'minuteCaloriesNarrow_merged.csv', sep=\"\"), header=TRUE,stringsAsFactors = FALSE)\n",
    "minute.calories.wide <- read.csv(paste(path, 'minuteCaloriesWide_merged.csv', sep=\"\"), header=TRUE,stringsAsFactors = FALSE)\n",
    "minute.intensities.narrow <- read.csv(paste(path, 'minuteIntensitiesNarrow_merged.csv', sep=\"\"), header=TRUE,stringsAsFactors = FALSE)\n",
    "minute.intensities.Wide <- read.csv(paste(path, 'minuteIntensitiesWide_merged.csv', sep=\"\"), header=TRUE,stringsAsFactors = FALSE)\n",
    "minute.mets.narrow <- read.csv(paste(path, 'minuteMETsNarrow_merged.csv', sep=\"\"), header=TRUE,stringsAsFactors = FALSE)\n",
    "minute.Sleep <- read.csv(paste(path, 'minuteSleep_merged.csv', sep=\"\"), header=TRUE,stringsAsFactors = FALSE)\n",
    "minute.steps.narrow <- read.csv(paste(path, 'minuteStepsNarrow_merged.csv', sep=\"\"), header=TRUE,stringsAsFactors = FALSE)\n",
    "minute.steps.wide <- read.csv(paste(path, 'minuteStepsWide_merged.csv', sep=\"\"), header=TRUE,stringsAsFactors = FALSE)\n",
    "minute.steps.narrow <- read.csv(paste(path, 'minuteStepsNarrow_merged.csv', sep=\"\"), header=TRUE,stringsAsFactors = FALSE)\n",
    "\n",
    "weight.log <- read.csv(paste(path, 'weightLogInfo_merged.csv', sep=\"\"), header=TRUE,stringsAsFactors = FALSE)"
   ]
  },
  {
   "cell_type": "markdown",
   "id": "intimate-marriage",
   "metadata": {},
   "source": [
    "## Clean and join daily datasets"
   ]
  },
  {
   "cell_type": "code",
   "execution_count": 3,
   "id": "relevant-sudan",
   "metadata": {},
   "outputs": [],
   "source": [
    "colnames(daily.activity)[2] <- 'ActivityDay' #activity"
   ]
  },
  {
   "cell_type": "code",
   "execution_count": 4,
   "id": "beautiful-brave",
   "metadata": {},
   "outputs": [],
   "source": [
    "df <- daily.activity %>% full_join(daily.calories, by=c(\"Id\",\"ActivityDay\")) #calories\n",
    "df <- df %>% full_join(daily.intensities, by=c(\"Id\",\"ActivityDay\")) # intensities\n",
    "df <- df %>% full_join(daily.steps, by=c(\"Id\",\"ActivityDay\")) #steps"
   ]
  },
  {
   "cell_type": "code",
   "execution_count": 5,
   "id": "regulated-triumph",
   "metadata": {},
   "outputs": [],
   "source": [
    "#sleep.day <- sleep.day %>%\n",
    "#      mutate_at(\"SleepDay\", str_replace, \" 12:00:00 AM\", \"\")\n",
    "colnames(sleep.day)[2] <- \"ActivityDay\"\n",
    "sleep.day$ActivityDay <- sapply(strsplit(sleep.day$ActivityDay, \" \"), \"[\", 1)"
   ]
  },
  {
   "cell_type": "code",
   "execution_count": 6,
   "id": "stuck-injection",
   "metadata": {},
   "outputs": [],
   "source": [
    "df <- df %>% full_join(sleep.day, by=c(\"Id\",\"ActivityDay\")) #sleep"
   ]
  },
  {
   "cell_type": "code",
   "execution_count": 7,
   "id": "original-islam",
   "metadata": {},
   "outputs": [],
   "source": [
    "colnames(weight.log)[2] <- \"ActivityDay\"\n",
    "weight.log$ActivityDay <- sapply(strsplit(weight.log$ActivityDay, \" \"), \"[\", 1)\n",
    "df <- df %>% full_join(weight.log, by=c(\"Id\",\"ActivityDay\")) #sleep"
   ]
  },
  {
   "cell_type": "markdown",
   "id": "solar-extra",
   "metadata": {},
   "source": [
    "## Select only useful columns"
   ]
  },
  {
   "cell_type": "code",
   "execution_count": 8,
   "id": "dirty-pharmaceutical",
   "metadata": {},
   "outputs": [],
   "source": [
    "df <- df[,c(\"Id\",'ActivityDay','TotalSteps','TotalDistance','LoggedActivitiesDistance',\n",
    "            'VeryActiveDistance.x','ModeratelyActiveDistance.x','LightActiveDistance.x','SedentaryActiveDistance.x',\n",
    "            'VeryActiveMinutes.x', 'FairlyActiveMinutes.x' ,'LightlyActiveMinutes.x' ,'SedentaryMinutes.x' ,'Calories.x'\n",
    "            ,'TotalMinutesAsleep',\"TotalTimeInBed\",\"WeightKg\",\"WeightPounds\",\"Fat\",\"BMI\",\"IsManualReport\" )]\n"
   ]
  },
  {
   "cell_type": "code",
   "execution_count": 9,
   "id": "employed-chair",
   "metadata": {},
   "outputs": [],
   "source": [
    "colnames(df) <- c(\"Id\",'ActivityDay','TotalSteps','TotalDistance','LoggedActivitiesDistance',\n",
    "            'VeryActiveDistance','ModeratelyActiveDistance','LightActiveDistance','SedentaryActiveDistance',\n",
    "            'VeryActiveMinutes', 'FairlyActiveMinutes' ,'LightlyActiveMinutes' ,'SedentaryMinutes' ,'Calories'\n",
    "            ,'TotalMinutesAsleep',\"TotalTimeInBed\",\"WeightKg\",\"WeightPounds\",\"Fat\",\"BMI\",\"IsManualReport\" )"
   ]
  },
  {
   "cell_type": "markdown",
   "id": "immune-assumption",
   "metadata": {},
   "source": [
    "## Analyze"
   ]
  },
  {
   "cell_type": "markdown",
   "id": "prescribed-topic",
   "metadata": {},
   "source": [
    "### Compute the percentage of data available per column"
   ]
  },
  {
   "cell_type": "code",
   "execution_count": 10,
   "id": "regular-orientation",
   "metadata": {},
   "outputs": [
    {
     "name": "stdout",
     "output_type": "stream",
     "text": [
      "[1] \"Id 1\"\n",
      "[1] \"ActivityDay 1\"\n",
      "[1] \"TotalSteps 1\"\n",
      "[1] \"TotalDistance 1\"\n",
      "[1] \"LoggedActivitiesDistance 1\"\n",
      "[1] \"VeryActiveDistance 1\"\n",
      "[1] \"ModeratelyActiveDistance 1\"\n",
      "[1] \"LightActiveDistance 1\"\n",
      "[1] \"SedentaryActiveDistance 1\"\n",
      "[1] \"VeryActiveMinutes 1\"\n",
      "[1] \"FairlyActiveMinutes 1\"\n",
      "[1] \"LightlyActiveMinutes 1\"\n",
      "[1] \"SedentaryMinutes 1\"\n",
      "[1] \"Calories 1\"\n",
      "[1] \"TotalMinutesAsleep 0.43796394485684\"\n",
      "[1] \"TotalTimeInBed 0.43796394485684\"\n",
      "[1] \"WeightKg 0.0710498409331919\"\n",
      "[1] \"WeightPounds 0.0710498409331919\"\n",
      "[1] \"Fat 0.00212089077412513\"\n",
      "[1] \"BMI 0.0710498409331919\"\n",
      "[1] \"IsManualReport 0.0710498409331919\"\n"
     ]
    }
   ],
   "source": [
    "for(col in colnames(df)){\n",
    "    print(paste(col,sum(!is.na(df[col]))/nrow(df[col])))\n",
    "}"
   ]
  },
  {
   "cell_type": "markdown",
   "id": "approximate-surrey",
   "metadata": {},
   "source": [
    "> This shows that `steps`, `distance` and `calories` are the mostly used functions on smartdevices"
   ]
  },
  {
   "cell_type": "markdown",
   "id": "removable-footage",
   "metadata": {},
   "source": [
    "### Plot IsManualReport"
   ]
  },
  {
   "cell_type": "code",
   "execution_count": 11,
   "id": "loaded-knock",
   "metadata": {},
   "outputs": [
    {
     "data": {
      "image/png": "[encoded data removed]",
      "text/plain": [
       "plot without title"
      ]
     },
     "metadata": {},
     "output_type": "display_data"
    }
   ],
   "source": [
    "ggplot(df, aes(x=IsManualReport)) + geom_bar()"
   ]
  },
  {
   "cell_type": "markdown",
   "id": "ordinary-christmas",
   "metadata": {},
   "source": [
    "> `Weight`, `Fat` and `BMI` are not really used because because they can be either reported manually or not. In most of the case, they are not activated by default and users need to search for them. "
   ]
  },
  {
   "cell_type": "markdown",
   "id": "pacific-induction",
   "metadata": {},
   "source": [
    "### On which days do people exercise the most ?"
   ]
  },
  {
   "cell_type": "code",
   "execution_count": 12,
   "id": "approximate-greek",
   "metadata": {},
   "outputs": [],
   "source": [
    "foo <- data.frame(do.call('rbind', strsplit(as.character(df$ActivityDay),'/',fixed=TRUE)))"
   ]
  },
  {
   "cell_type": "code",
   "execution_count": 13,
   "id": "incorporate-demographic",
   "metadata": {},
   "outputs": [],
   "source": [
    "foo <- foo[,c('X2' ,'X1', 'X3')]"
   ]
  },
  {
   "cell_type": "code",
   "execution_count": 14,
   "id": "inclusive-massachusetts",
   "metadata": {},
   "outputs": [],
   "source": [
    "foo['date'] <- paste(foo$X2,foo$X1,foo$X3,sep=\".\")"
   ]
  },
  {
   "cell_type": "code",
   "execution_count": 15,
   "id": "qualified-magazine",
   "metadata": {},
   "outputs": [],
   "source": [
    "df$ActivityDay <- foo$date"
   ]
  },
  {
   "cell_type": "code",
   "execution_count": 16,
   "id": "stupid-trash",
   "metadata": {},
   "outputs": [],
   "source": [
    "df$weekday <- weekdays(as.Date(df$ActivityDay, format=\"%d.%m.%Y\"))"
   ]
  },
  {
   "cell_type": "code",
   "execution_count": 17,
   "id": "crucial-receptor",
   "metadata": {},
   "outputs": [],
   "source": [
    "means = df %>% group_by(weekday) %>% \n",
    "    summarise(mean_steps = mean(TotalSteps),\n",
    "              mean_distance = mean(TotalDistance),\n",
    "              mean_calories = mean(Calories),\n",
    "              mean_VADistance = mean(VeryActiveDistance),\n",
    "              mean_MADistance = mean(ModeratelyActiveDistance),\n",
    "              mean_LADistance = mean(LightActiveDistance),\n",
    "              mean_SADistance = mean(SedentaryActiveDistance))"
   ]
  },
  {
   "cell_type": "code",
   "execution_count": 18,
   "id": "variable-january",
   "metadata": {},
   "outputs": [
    {
     "data": {
      "text/html": [
       "<table>\n",
       "<thead><tr><th scope=col>weekday</th><th scope=col>mean_steps</th><th scope=col>mean_distance</th><th scope=col>mean_calories</th><th scope=col>mean_VADistance</th><th scope=col>mean_MADistance</th><th scope=col>mean_LADistance</th><th scope=col>mean_SADistance</th></tr></thead>\n",
       "<tbody>\n",
       "\t<tr><td>dimanche   </td><td>6933.231   </td><td>5.027190   </td><td>2263.000   </td><td>1.488926   </td><td>0.6180165  </td><td>2.892314   </td><td>0.000661157</td></tr>\n",
       "\t<tr><td>jeudi      </td><td>7420.682   </td><td>5.326216   </td><td>2204.297   </td><td>1.385338   </td><td>0.5130405  </td><td>3.295338   </td><td>0.002297297</td></tr>\n",
       "\t<tr><td>lundi      </td><td>7819.083   </td><td>5.588347   </td><td>2338.099   </td><td>1.566364   </td><td>0.5881818  </td><td>3.367686   </td><td>0.002561983</td></tr>\n",
       "\t<tr><td>mardi      </td><td>8125.007   </td><td>5.832237   </td><td>2356.013   </td><td>1.613289   </td><td>0.5930263  </td><td>3.471053   </td><td>0.001447368</td></tr>\n",
       "\t<tr><td>mercredi   </td><td>7559.373   </td><td>5.488333   </td><td>2302.620   </td><td>1.633467   </td><td>0.5270667  </td><td>3.256333   </td><td>0.001333333</td></tr>\n",
       "\t<tr><td>samedi     </td><td>8202.712   </td><td>5.901040   </td><td>2365.592   </td><td>1.505440   </td><td>0.6904000  </td><td>3.660000   </td><td>0.001040000</td></tr>\n",
       "\t<tr><td>vendredi   </td><td>7448.230   </td><td>5.309921   </td><td>2331.786   </td><td>1.312937   </td><td>0.4838095  </td><td>3.489127   </td><td>0.001825397</td></tr>\n",
       "</tbody>\n",
       "</table>\n"
      ],
      "text/latex": [
       "\\begin{tabular}{r|llllllll}\n",
       " weekday & mean\\_steps & mean\\_distance & mean\\_calories & mean\\_VADistance & mean\\_MADistance & mean\\_LADistance & mean\\_SADistance\\\\\n",
       "\\hline\n",
       "\t dimanche    & 6933.231    & 5.027190    & 2263.000    & 1.488926    & 0.6180165   & 2.892314    & 0.000661157\\\\\n",
       "\t jeudi       & 7420.682    & 5.326216    & 2204.297    & 1.385338    & 0.5130405   & 3.295338    & 0.002297297\\\\\n",
       "\t lundi       & 7819.083    & 5.588347    & 2338.099    & 1.566364    & 0.5881818   & 3.367686    & 0.002561983\\\\\n",
       "\t mardi       & 8125.007    & 5.832237    & 2356.013    & 1.613289    & 0.5930263   & 3.471053    & 0.001447368\\\\\n",
       "\t mercredi    & 7559.373    & 5.488333    & 2302.620    & 1.633467    & 0.5270667   & 3.256333    & 0.001333333\\\\\n",
       "\t samedi      & 8202.712    & 5.901040    & 2365.592    & 1.505440    & 0.6904000   & 3.660000    & 0.001040000\\\\\n",
       "\t vendredi    & 7448.230    & 5.309921    & 2331.786    & 1.312937    & 0.4838095   & 3.489127    & 0.001825397\\\\\n",
       "\\end{tabular}\n"
      ],
      "text/markdown": [
       "\n",
       "| weekday | mean_steps | mean_distance | mean_calories | mean_VADistance | mean_MADistance | mean_LADistance | mean_SADistance |\n",
       "|---|---|---|---|---|---|---|---|\n",
       "| dimanche    | 6933.231    | 5.027190    | 2263.000    | 1.488926    | 0.6180165   | 2.892314    | 0.000661157 |\n",
       "| jeudi       | 7420.682    | 5.326216    | 2204.297    | 1.385338    | 0.5130405   | 3.295338    | 0.002297297 |\n",
       "| lundi       | 7819.083    | 5.588347    | 2338.099    | 1.566364    | 0.5881818   | 3.367686    | 0.002561983 |\n",
       "| mardi       | 8125.007    | 5.832237    | 2356.013    | 1.613289    | 0.5930263   | 3.471053    | 0.001447368 |\n",
       "| mercredi    | 7559.373    | 5.488333    | 2302.620    | 1.633467    | 0.5270667   | 3.256333    | 0.001333333 |\n",
       "| samedi      | 8202.712    | 5.901040    | 2365.592    | 1.505440    | 0.6904000   | 3.660000    | 0.001040000 |\n",
       "| vendredi    | 7448.230    | 5.309921    | 2331.786    | 1.312937    | 0.4838095   | 3.489127    | 0.001825397 |\n",
       "\n"
      ],
      "text/plain": [
       "  weekday  mean_steps mean_distance mean_calories mean_VADistance\n",
       "1 dimanche 6933.231   5.027190      2263.000      1.488926       \n",
       "2 jeudi    7420.682   5.326216      2204.297      1.385338       \n",
       "3 lundi    7819.083   5.588347      2338.099      1.566364       \n",
       "4 mardi    8125.007   5.832237      2356.013      1.613289       \n",
       "5 mercredi 7559.373   5.488333      2302.620      1.633467       \n",
       "6 samedi   8202.712   5.901040      2365.592      1.505440       \n",
       "7 vendredi 7448.230   5.309921      2331.786      1.312937       \n",
       "  mean_MADistance mean_LADistance mean_SADistance\n",
       "1 0.6180165       2.892314        0.000661157    \n",
       "2 0.5130405       3.295338        0.002297297    \n",
       "3 0.5881818       3.367686        0.002561983    \n",
       "4 0.5930263       3.471053        0.001447368    \n",
       "5 0.5270667       3.256333        0.001333333    \n",
       "6 0.6904000       3.660000        0.001040000    \n",
       "7 0.4838095       3.489127        0.001825397    "
      ]
     },
     "metadata": {},
     "output_type": "display_data"
    }
   ],
   "source": [
    "means"
   ]
  },
  {
   "cell_type": "code",
   "execution_count": 51,
   "id": "opening-chamber",
   "metadata": {
    "scrolled": false
   },
   "outputs": [
    {
     "data": {
      "image/png": "[encoded data removed]",
      "text/plain": [
       "plot without title"
      ]
     },
     "metadata": {},
     "output_type": "display_data"
    }
   ],
   "source": [
    " ggplot(data=means, aes(x=reorder(weekday,-mean_steps),y=mean_steps)) + geom_bar(stat=\"identity\") + ggtitle(\"Most active days\")"
   ]
  },
  {
   "cell_type": "markdown",
   "id": "lovely-wallpaper",
   "metadata": {},
   "source": [
    "### What type of distance ?"
   ]
  },
  {
   "cell_type": "code",
   "execution_count": 49,
   "id": "fallen-jewel",
   "metadata": {},
   "outputs": [
    {
     "data": {
      "image/png": "[encoded data removed]",
      "text/plain": [
       "plot without title"
      ]
     },
     "metadata": {},
     "output_type": "display_data"
    }
   ],
   "source": [
    "means.long <- melt(means, id = \"weekday\", measure = c(\"mean_VADistance\", \"mean_MADistance\", \"mean_LADistance\"\n",
    "                                                       ,\"mean_SADistance\"))\n",
    "ggplot(means.long, aes(weekday, value, fill= variable)) + geom_bar(stat=\"identity\",position=position_dodge()) +\n",
    "ggtitle(\"Type of activity per day\")"
   ]
  },
  {
   "cell_type": "markdown",
   "id": "tutorial-jonathan",
   "metadata": {},
   "source": [
    "The people are mostly `light active` which means that most of the users are not sportive."
   ]
  },
  {
   "cell_type": "code",
   "execution_count": 21,
   "id": "french-cabinet",
   "metadata": {},
   "outputs": [],
   "source": [
    "means.by_date = df %>% group_by(ActivityDay) %>% \n",
    "    summarise(mean_steps = mean(TotalSteps),\n",
    "              mean_distance = mean(TotalDistance),\n",
    "              mean_calories = mean(Calories),\n",
    "              mean_VADistance = mean(VeryActiveDistance),\n",
    "              mean_MADistance = mean(ModeratelyActiveDistance),\n",
    "              mean_LADistance = mean(LightActiveDistance),\n",
    "              mean_SADistance = mean(SedentaryActiveDistance))"
   ]
  },
  {
   "cell_type": "code",
   "execution_count": 22,
   "id": "czech-northern",
   "metadata": {},
   "outputs": [],
   "source": [
    "means.by_date$ActivityDay <- as.Date(means.by_date$ActivityDay,format=\"%d.%m.%y\")"
   ]
  },
  {
   "cell_type": "code",
   "execution_count": 47,
   "id": "billion-oxide",
   "metadata": {},
   "outputs": [
    {
     "data": {
      "image/png": "[encoded data removed]",
      "text/plain": [
       "plot without title"
      ]
     },
     "metadata": {},
     "output_type": "display_data"
    }
   ],
   "source": [
    "distance.by_date <- melt(means.by_date, id = \"ActivityDay\", measure = c(\"mean_VADistance\", \"mean_MADistance\", \"mean_LADistance\"\n",
    "                                                       ,\"mean_SADistance\"))\n",
    "ggplot(distance.by_date, aes(ActivityDay, value, colour= variable)) + geom_line() + ggtitle(\"Mean activites over days\")"
   ]
  },
  {
   "cell_type": "code",
   "execution_count": 54,
   "id": "documentary-basin",
   "metadata": {},
   "outputs": [
    {
     "data": {
      "text/html": [
       "<ol class=list-inline>\n",
       "\t<li>'Id'</li>\n",
       "\t<li>'ActivityDay'</li>\n",
       "\t<li>'TotalSteps'</li>\n",
       "\t<li>'TotalDistance'</li>\n",
       "\t<li>'LoggedActivitiesDistance'</li>\n",
       "\t<li>'VeryActiveDistance'</li>\n",
       "\t<li>'ModeratelyActiveDistance'</li>\n",
       "\t<li>'LightActiveDistance'</li>\n",
       "\t<li>'SedentaryActiveDistance'</li>\n",
       "\t<li>'VeryActiveMinutes'</li>\n",
       "\t<li>'FairlyActiveMinutes'</li>\n",
       "\t<li>'LightlyActiveMinutes'</li>\n",
       "\t<li>'SedentaryMinutes'</li>\n",
       "\t<li>'Calories'</li>\n",
       "\t<li>'TotalMinutesAsleep'</li>\n",
       "\t<li>'TotalTimeInBed'</li>\n",
       "\t<li>'WeightKg'</li>\n",
       "\t<li>'WeightPounds'</li>\n",
       "\t<li>'Fat'</li>\n",
       "\t<li>'BMI'</li>\n",
       "\t<li>'IsManualReport'</li>\n",
       "\t<li>'weekday'</li>\n",
       "</ol>\n"
      ],
      "text/latex": [
       "\\begin{enumerate*}\n",
       "\\item 'Id'\n",
       "\\item 'ActivityDay'\n",
       "\\item 'TotalSteps'\n",
       "\\item 'TotalDistance'\n",
       "\\item 'LoggedActivitiesDistance'\n",
       "\\item 'VeryActiveDistance'\n",
       "\\item 'ModeratelyActiveDistance'\n",
       "\\item 'LightActiveDistance'\n",
       "\\item 'SedentaryActiveDistance'\n",
       "\\item 'VeryActiveMinutes'\n",
       "\\item 'FairlyActiveMinutes'\n",
       "\\item 'LightlyActiveMinutes'\n",
       "\\item 'SedentaryMinutes'\n",
       "\\item 'Calories'\n",
       "\\item 'TotalMinutesAsleep'\n",
       "\\item 'TotalTimeInBed'\n",
       "\\item 'WeightKg'\n",
       "\\item 'WeightPounds'\n",
       "\\item 'Fat'\n",
       "\\item 'BMI'\n",
       "\\item 'IsManualReport'\n",
       "\\item 'weekday'\n",
       "\\end{enumerate*}\n"
      ],
      "text/markdown": [
       "1. 'Id'\n",
       "2. 'ActivityDay'\n",
       "3. 'TotalSteps'\n",
       "4. 'TotalDistance'\n",
       "5. 'LoggedActivitiesDistance'\n",
       "6. 'VeryActiveDistance'\n",
       "7. 'ModeratelyActiveDistance'\n",
       "8. 'LightActiveDistance'\n",
       "9. 'SedentaryActiveDistance'\n",
       "10. 'VeryActiveMinutes'\n",
       "11. 'FairlyActiveMinutes'\n",
       "12. 'LightlyActiveMinutes'\n",
       "13. 'SedentaryMinutes'\n",
       "14. 'Calories'\n",
       "15. 'TotalMinutesAsleep'\n",
       "16. 'TotalTimeInBed'\n",
       "17. 'WeightKg'\n",
       "18. 'WeightPounds'\n",
       "19. 'Fat'\n",
       "20. 'BMI'\n",
       "21. 'IsManualReport'\n",
       "22. 'weekday'\n",
       "\n",
       "\n"
      ],
      "text/plain": [
       " [1] \"Id\"                       \"ActivityDay\"             \n",
       " [3] \"TotalSteps\"               \"TotalDistance\"           \n",
       " [5] \"LoggedActivitiesDistance\" \"VeryActiveDistance\"      \n",
       " [7] \"ModeratelyActiveDistance\" \"LightActiveDistance\"     \n",
       " [9] \"SedentaryActiveDistance\"  \"VeryActiveMinutes\"       \n",
       "[11] \"FairlyActiveMinutes\"      \"LightlyActiveMinutes\"    \n",
       "[13] \"SedentaryMinutes\"         \"Calories\"                \n",
       "[15] \"TotalMinutesAsleep\"       \"TotalTimeInBed\"          \n",
       "[17] \"WeightKg\"                 \"WeightPounds\"            \n",
       "[19] \"Fat\"                      \"BMI\"                     \n",
       "[21] \"IsManualReport\"           \"weekday\"                 "
      ]
     },
     "metadata": {},
     "output_type": "display_data"
    }
   ],
   "source": [
    "colnames(df)"
   ]
  },
  {
   "cell_type": "markdown",
   "id": "atlantic-virtue",
   "metadata": {},
   "source": [
    "### At what time do people mostly exercice ?"
   ]
  },
  {
   "cell_type": "code",
   "execution_count": 24,
   "id": "executed-jimmy",
   "metadata": {},
   "outputs": [],
   "source": [
    "df.hourly <- hourly.calories %>% full_join(hourly.intensities, by=c(\"Id\",\"ActivityHour\"))\n",
    "df.hourly <- df.hourly %>% full_join(hourly.steps, by=c(\"Id\",\"ActivityHour\"))"
   ]
  },
  {
   "cell_type": "code",
   "execution_count": 25,
   "id": "catholic-divide",
   "metadata": {},
   "outputs": [],
   "source": [
    "df.hourly$ActivityHour <- paste(sapply(strsplit(df.hourly$ActivityHour, \" \"), \"[\", 2),sapply(strsplit(df.hourly$ActivityHour, \" \"), \"[\", 3),sep = \" \")\n"
   ]
  },
  {
   "cell_type": "code",
   "execution_count": 26,
   "id": "primary-interaction",
   "metadata": {},
   "outputs": [],
   "source": [
    "hourly.means <- df.hourly %>%\n",
    "                group_by(ActivityHour) %>%\n",
    "                summarize(mean_calories=mean(Calories),\n",
    "                         mean_totalintensity=mean(TotalIntensity),\n",
    "                         mean_averageIntensity=mean(AverageIntensity),\n",
    "                         mean_TotalSteps=mean(StepTotal))"
   ]
  },
  {
   "cell_type": "code",
   "execution_count": 27,
   "id": "worse-bedroom",
   "metadata": {},
   "outputs": [],
   "source": [
    "hourly.means$ActivityHour <- as.POSIXct(hourly.means$ActivityHour, format=\"%I:%M:%S %p\",,tz=Sys.timezone())"
   ]
  },
  {
   "cell_type": "code",
   "execution_count": 45,
   "id": "inclusive-assets",
   "metadata": {},
   "outputs": [
    {
     "data": {
      "image/png": "[encoded data removed]",
      "text/plain": [
       "plot without title"
      ]
     },
     "metadata": {},
     "output_type": "display_data"
    }
   ],
   "source": [
    "distance.by_date <- melt(hourly.means, id = \"ActivityHour\", measure = c(\"mean_calories\", \"mean_totalintensity\", \n",
    "                                                                        \"mean_averageIntensity\",\"mean_TotalSteps\"))\n",
    "ggplot(distance.by_date, aes(ActivityHour, value, colour= variable)) + geom_line() + ggtitle(\"Mean activity over time\")"
   ]
  },
  {
   "cell_type": "markdown",
   "id": "convenient-lodging",
   "metadata": {},
   "source": [
    "> Steps increase between `5PM` and `7PM` which is related to end of work time."
   ]
  },
  {
   "cell_type": "code",
   "execution_count": 62,
   "id": "essential-depth",
   "metadata": {},
   "outputs": [],
   "source": [
    "activeminutes <- df[,c('ActivityDay','VeryActiveMinutes', 'FairlyActiveMinutes', 'LightlyActiveMinutes', 'SedentaryMinutes')]"
   ]
  },
  {
   "cell_type": "code",
   "execution_count": 75,
   "id": "worst-single",
   "metadata": {},
   "outputs": [
    {
     "data": {
      "image/png": "[encoded data removed]",
      "text/plain": [
       "plot without title"
      ]
     },
     "metadata": {},
     "output_type": "display_data"
    }
   ],
   "source": [
    "activity.means <- activeminutes %>%\n",
    "                group_by(ActivityDay) %>%\n",
    "                summarize(mean_VeryActive=mean(VeryActiveMinutes),\n",
    "                         mean_FailyActive=mean(FairlyActiveMinutes),\n",
    "                         mean_LightlyActive=mean(LightlyActiveMinutes),\n",
    "                         mean_Sedentary=mean(SedentaryMinutes))\n",
    "activities.minutes <- melt(activity.means, id = \"ActivityDay\", measure = c(\"mean_VeryActive\", \"mean_FailyActive\",\n",
    "                                                                  \"mean_LightlyActive\",\"mean_Sedentary\"))\n",
    "\n",
    "activities.minutes$ActivityDay <- as.Date(activities.minutes$ActivityDay,format=\"%d.%m.%y\")\n",
    "ggplot(activities.minutes, aes(ActivityDay, value, colour= variable)) + geom_line() + ggtitle(\"Mean Activities minutes over days\")"
   ]
  },
  {
   "cell_type": "markdown",
   "id": "dedicated-bargain",
   "metadata": {},
   "source": [
    "### Is total calories related to sleepTime ?"
   ]
  },
  {
   "cell_type": "code",
   "execution_count": 36,
   "id": "dress-gambling",
   "metadata": {},
   "outputs": [],
   "source": [
    "calories_over_totalminutesasleep <- df[,c(\"Calories\",\"TotalMinutesAsleep\", \"TotalTimeInBed\")]"
   ]
  },
  {
   "cell_type": "code",
   "execution_count": 41,
   "id": "exceptional-knife",
   "metadata": {},
   "outputs": [
    {
     "name": "stderr",
     "output_type": "stream",
     "text": [
      "Warning message:\n",
      "\"Removed 530 rows containing missing values (geom_point).\""
     ]
    },
    {
     "data": {
      "image/png": "[encoded data removed]",
      "text/plain": [
       "plot without title"
      ]
     },
     "metadata": {},
     "output_type": "display_data"
    }
   ],
   "source": [
    "ggplot(data=calories_over_totalminutesasleep, aes(x=Calories,y=TotalMinutesAsleep)) + geom_point(color=\"blue\", size=3) +\n",
    "ggtitle(\"TotalMinutesAsleep over Calories\")"
   ]
  },
  {
   "cell_type": "code",
   "execution_count": 43,
   "id": "naval-berlin",
   "metadata": {},
   "outputs": [
    {
     "name": "stderr",
     "output_type": "stream",
     "text": [
      "Warning message:\n",
      "\"Removed 530 rows containing missing values (geom_point).\""
     ]
    },
    {
     "data": {
      "image/png": "[encoded data removed]",
      "text/plain": [
       "plot without title"
      ]
     },
     "metadata": {},
     "output_type": "display_data"
    }
   ],
   "source": [
    "ggplot(data=calories_over_totalminutesasleep, aes(x=TotalTimeInBed,y=TotalMinutesAsleep)) + geom_point(color=\"blue\", size=3) +\n",
    "ggtitle(\"TotalTimeInBed over TotalMinutesAsleep\")"
   ]
  },
  {
   "cell_type": "markdown",
   "id": "constitutional-vocabulary",
   "metadata": {},
   "source": [
    "# Summary"
   ]
  },
  {
   "cell_type": "markdown",
   "id": "engaging-somalia",
   "metadata": {},
   "source": [
    "> Based on the graphics :\n",
    "> - Most of the users are `sedentary` (more than `900 minutes` as day ~ `7hours` without sleeping time).\n",
    "> - They mostly pratice light activities (like `walking`).\n",
    "> - They mostly use basic functions (`calories`, `steps` and `distance`). Those are actived by default.\n",
    "> - They are mostly active between `5PM` and `7PM` which is linked to the end of work time.\n",
    "> - Most active days are `saturday` and `monday`.\n",
    "> - **TotalMinutesAsleep** is somehow related to **calories** burned. Over `1500 calories` burned is enough to sleep well.\n",
    "> - In most of the case, TotalTimeInBed are similar to TotalMinutesAsleep.\n",
    "> - People sleep between `6 and 7 hours`."
   ]
  },
  {
   "cell_type": "markdown",
   "id": "photographic-defendant",
   "metadata": {},
   "source": [
    "# Act"
   ]
  },
  {
   "cell_type": "markdown",
   "id": "alone-butter",
   "metadata": {},
   "source": [
    "Most of the users are sedentar which is really bad for the health (chance to develop diabetes, hypertension, heart illness and other diseases are really high).\n",
    "\n",
    "- Bellbeat should focus his marketing strategy on the health part and implement, for example, distance or calories challenge to make people move.\n",
    "- Most of sleeping time is focused between 6 and 7 hours which is not enough (lower bound of sleep time recommendation). Bellbeat should send notification to go to sleep based on the information collected (wake up time of the users)."
   ]
  },
  {
   "cell_type": "code",
   "execution_count": null,
   "id": "collectible-subdivision",
   "metadata": {},
   "outputs": [],
   "source": []
  }
 ],
 "metadata": {
  "kernelspec": {
   "display_name": "R",
   "language": "R",
   "name": "ir"
  },
  "language_info": {
   "codemirror_mode": "r",
   "file_extension": ".r",
   "mimetype": "text/x-r-source",
   "name": "R",
   "pygments_lexer": "r",
   "version": "3.6.1"
  }
 },
 "nbformat": 4,
 "nbformat_minor": 5
}
